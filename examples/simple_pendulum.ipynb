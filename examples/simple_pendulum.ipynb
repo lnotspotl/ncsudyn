{
 "cells": [
  {
   "cell_type": "code",
   "execution_count": 151,
   "metadata": {},
   "outputs": [],
   "source": [
    "import casadi\n",
    "import matplotlib.pyplot as plt\n",
    "import numpy as np\n",
    "from IPython.display import HTML, display\n",
    "from matplotlib.animation import FuncAnimation"
   ]
  },
  {
   "cell_type": "code",
   "execution_count": 175,
   "metadata": {},
   "outputs": [],
   "source": [
    "m, l, g = 1, 1, 9.8\n",
    "\n",
    "# Define optimization variables\n",
    "T = 5.0  # Time horizon\n",
    "N = 100  # Number of control intervals\n",
    "dt = T / N\n",
    "\n",
    "# define dynamics\n",
    "nq = 1\n",
    "nv = 1\n",
    "cq = casadi.SX.sym(\"q\", nq)  # generalized position\n",
    "cv = casadi.SX.sym(\"v\", nv)  # generalized velocity\n",
    "cu = casadi.SX.sym(\"u\", nv)  # control input\n",
    "aba_fn = casadi.Function(\"aba_fn\", [cq, cv, cu], [cu - g / l * casadi.sin(cq)])\n",
    "\n",
    "\n",
    "# Euler integrator\n",
    "def euler_integrate(q, v, u):\n",
    "    q_next = q + v * dt\n",
    "    v_next = v + aba_fn(q, v, u) * dt\n",
    "    return q_next, v_next"
   ]
  },
  {
   "cell_type": "code",
   "execution_count": null,
   "metadata": {},
   "outputs": [],
   "source": [
    "opti = casadi.Opti()\n",
    "\n",
    "Q = opti.variable(nq, N + 1)\n",
    "V = opti.variable(nv, N + 1)\n",
    "U = opti.variable(nv, N)\n",
    "\n",
    "\n",
    "# Set initial state\n",
    "opti.subject_to(Q[:, 0] == np.array([0]))\n",
    "opti.subject_to(V[:, 0] == np.array([0]))\n",
    "\n",
    "# Set final state\n",
    "opti.subject_to(Q[:, N] == np.array([np.pi]))\n",
    "opti.subject_to(V[:, N] == np.array([0]))\n",
    "\n",
    "# Set dynamics constraints\n",
    "for k in range(N):\n",
    "    q_next, v_next = euler_integrate(Q[:, k], V[:, k], U[:, k])\n",
    "    opti.subject_to(Q[:, k + 1] == q_next)\n",
    "    opti.subject_to(V[:, k + 1] == v_next)\n",
    "\n",
    "# Set control limits\n",
    "limit = 3.0\n",
    "opti.subject_to(opti.bounded(-limit, U, limit))\n",
    "\n",
    "# Define objective\n",
    "obj = 0\n",
    "for k in range(N):\n",
    "    obj += U[:, k].T @ U[:, k]\n",
    "    obj += (Q[:, k] - np.array([np.pi])) ** 2\n",
    "\n",
    "opti.minimize(obj)\n",
    "\n",
    "# Solve\n",
    "opti.solver(\"ipopt\")\n",
    "sol = opti.solve()"
   ]
  },
  {
   "cell_type": "code",
   "execution_count": null,
   "metadata": {},
   "outputs": [],
   "source": [
    "Q_traj = sol.value(Q)\n",
    "V_traj = sol.value(V)\n",
    "\n",
    "plt.plot(Q_traj, V_traj)\n",
    "plt.xlabel(\"q\")\n",
    "plt.ylabel(\"v\")\n",
    "plt.grid()\n",
    "plt.show()"
   ]
  },
  {
   "cell_type": "code",
   "execution_count": null,
   "metadata": {},
   "outputs": [],
   "source": [
    "fig = plt.figure(figsize=(5, 5), constrained_layout=False)\n",
    "\n",
    "ax1 = fig.add_subplot(111)\n",
    "(ln1,) = ax1.plot([], [], linewidth=5, color=\"lightblue\")\n",
    "(ln2,) = ax1.plot([], [], marker=\".\", ls=\"\", markersize=30)\n",
    "\n",
    "# plt.axis('off')\n",
    "plt.tight_layout()\n",
    "\n",
    "ax1.set_xlim(-2, 2)\n",
    "ax1.set_ylim(-2, 2)\n",
    "ax1.set_aspect(1)\n",
    "\n",
    "\n",
    "def update(i):\n",
    "    q = Q_traj[i]\n",
    "    x_start = [0, l * np.sin(q)]\n",
    "    y_start = [0, -l * np.cos(q)]\n",
    "    ln1.set_data(x_start, y_start)\n",
    "\n",
    "    x_start = x_start[1:]\n",
    "    y_start = y_start[1:]\n",
    "    ln2.set_data(x_start, y_start)\n",
    "\n",
    "\n",
    "anim = FuncAnimation(fig, update, np.arange(0, N - 1, 1), interval=dt * 1000)\n",
    "\n",
    "print(\"Generating animation...\")\n",
    "plt.close()\n",
    "html = HTML(anim.to_jshtml())\n",
    "print(\"Done!\")"
   ]
  },
  {
   "cell_type": "code",
   "execution_count": null,
   "metadata": {},
   "outputs": [],
   "source": [
    "display(html)"
   ]
  }
 ],
 "metadata": {
  "kernelspec": {
   "display_name": "Python 3",
   "language": "python",
   "name": "python3"
  },
  "language_info": {
   "codemirror_mode": {
    "name": "ipython",
    "version": 3
   },
   "file_extension": ".py",
   "mimetype": "text/x-python",
   "name": "python",
   "nbconvert_exporter": "python",
   "pygments_lexer": "ipython3",
   "version": "3.8.20"
  }
 },
 "nbformat": 4,
 "nbformat_minor": 2
}
