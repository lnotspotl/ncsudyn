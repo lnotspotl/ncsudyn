{
 "cells": [
  {
   "cell_type": "code",
   "execution_count": 3,
   "metadata": {},
   "outputs": [],
   "source": [
    "import casadi\n",
    "import matplotlib.pyplot as plt\n",
    "import numpy as np\n",
    "import sympy as sp\n",
    "from IPython.display import HTML, display\n",
    "from matplotlib.animation import FuncAnimation"
   ]
  },
  {
   "cell_type": "markdown",
   "metadata": {},
   "source": [
    "##### Derive dynamics"
   ]
  },
  {
   "cell_type": "code",
   "execution_count": 57,
   "metadata": {},
   "outputs": [],
   "source": [
    "L_body = 1\n",
    "L_leg_upper = 0.4\n",
    "L_leg_lower = 0.4\n",
    "\n",
    "mb1 = 1\n",
    "mb2 = 1\n",
    "mb3 = 1\n",
    "mb4 = 1\n",
    "mb5 = 1\n",
    "g = 9.81\n",
    "\n",
    "t = sp.symbols(\"t\")\n",
    "x, y, phi, theta1, theta2, theta3, theta4 = [sp.Function(name)(t) for name in \"x, y, phi, theta1, theta2, theta3, theta4\".split(\", \")]\n",
    "\n",
    "x_pos_b1 = x\n",
    "y_pos_b1 = y\n",
    "\n",
    "x_front_shoulder = x_pos_b1 + (L_body / 2 * sp.cos(phi))    \n",
    "y_front_shoulder = y_pos_b1 + (L_body / 2 * sp.sin(phi))\n",
    "\n",
    "x_pos_b2 = x_front_shoulder + (L_leg_upper * sp.cos(phi - np.pi / 2 + theta1))\n",
    "y_pos_b2 = y_front_shoulder + (L_leg_upper * sp.sin(phi - np.pi / 2 + theta1))\n",
    "\n",
    "x_pos_b3 = x_pos_b2 + (L_leg_lower * sp.cos(phi - np.pi / 2 + theta1 + theta2))\n",
    "y_pos_b3 = y_pos_b2 + (L_leg_lower * sp.sin(phi - np.pi / 2 + theta1 + theta2))\n",
    "\n",
    "x_rear_shoulder = x_pos_b1 - (L_body / 2 * sp.cos(phi))\n",
    "y_rear_shoulder = y_pos_b1 - (L_body / 2 * sp.sin(phi))\n",
    "\n",
    "x_pos_b4 = x_rear_shoulder + (L_leg_upper * sp.cos(phi - np.pi / 2 + theta3))\n",
    "y_pos_b4 = y_rear_shoulder + (L_leg_upper * sp.sin(phi - np.pi / 2 + theta3))\n",
    "\n",
    "x_pos_b5 = x_pos_b4 + (L_leg_lower * sp.cos(phi - np.pi / 2 + theta3 + theta4))\n",
    "y_pos_b5 = y_pos_b4 + (L_leg_lower * sp.sin(phi - np.pi / 2 + theta3 + theta4))\n",
    "\n",
    "x_dot, y_dot, phi_dot, theta1_dot, theta2_dot, theta3_dot, theta4_dot = [sp.diff(var, t) for var in [x, y, phi, theta1, theta2, theta3, theta4]]\n",
    "\n",
    "x_pos_b1_dot = sp.diff(x_pos_b1, t)\n",
    "y_pos_b1_dot = sp.diff(y_pos_b1, t)\n",
    "\n",
    "x_pos_b2_dot = sp.diff(x_pos_b2, t)\n",
    "y_pos_b2_dot = sp.diff(y_pos_b2, t)\n",
    "\n",
    "x_pos_b3_dot = sp.diff(x_pos_b3, t)\n",
    "y_pos_b3_dot = sp.diff(y_pos_b3, t)\n",
    "\n",
    "x_pos_b4_dot = sp.diff(x_pos_b4, t)\n",
    "y_pos_b4_dot = sp.diff(y_pos_b4, t)\n",
    "\n",
    "x_pos_b5_dot = sp.diff(x_pos_b5, t)\n",
    "y_pos_b5_dot = sp.diff(y_pos_b5, t)\n",
    "\n",
    "xs, ys, phis, theta1s, theta2s, theta3s, theta4s = [sp.Symbol(name) for name in \"x, y, phi, theta1, theta2, theta3, theta4\".split(\", \")]\n",
    "xs_dot, ys_dot, phis_dot, theta1s_dot, theta2s_dot, theta3s_dot, theta4s_dot = [sp.Symbol(name + \"_dot\") for name in \"x, y, phi, theta1, theta2, theta3, theta4\".split(\", \")]"
   ]
  },
  {
   "cell_type": "code",
   "execution_count": 73,
   "metadata": {},
   "outputs": [],
   "source": [
    "T = sum(1/2 * m * (xvel ** 2 + yvel ** 2) for m, xvel, yvel in [(mb1, x_pos_b1_dot, y_pos_b1_dot), (mb2, x_pos_b2_dot, y_pos_b2_dot), (mb3, x_pos_b3_dot, y_pos_b3_dot), (mb4, x_pos_b4_dot, y_pos_b4_dot), (mb5, x_pos_b5_dot, y_pos_b5_dot)])\n",
    "U = sum(m * g * y for m, y in [(mb1, y_pos_b1), (mb2, y_pos_b2), (mb3, y_pos_b3), (mb4, y_pos_b4), (mb5, y_pos_b5)])\n",
    "L = T - U\n",
    "\n",
    "# Derive the equations of motion\n",
    "# Create a list of generalized coordinates and their derivatives\n",
    "q = [x, y, phi, theta1, theta2, theta3, theta4] \n",
    "q_dot = [x_dot, y_dot, phi_dot, theta1_dot, theta2_dot, theta3_dot, theta4_dot]\n",
    "qs = [xs, ys, phis, theta1s, theta2s, theta3s, theta4s]\n",
    "qs_dot = [xs_dot, ys_dot, phis_dot, theta1s_dot, theta2s_dot, theta3s_dot, theta4s_dot]\n",
    "\n",
    "# Calculate equations of motion using Lagrange's equations\n",
    "eqns = []\n",
    "for i in range(len(q)):\n",
    "    # Calculate d/dt(∂L/∂q̇) - ∂L/∂q = 0\n",
    "    dL_dq_dot = sp.diff(L, q_dot[i])\n",
    "    ddt_dL_dq_dot = sp.diff(dL_dq_dot, t)\n",
    "    dL_dq = sp.diff(L, q[i])\n",
    "    eqn = ddt_dL_dq_dot - dL_dq\n",
    "    for i in range(len(q_dot)):\n",
    "        eqn = eqn.subs(q_dot[i], qs_dot[i])\n",
    "\n",
    "    for i in range(len(q)):\n",
    "        eqn = eqn.subs(q[i], qs[i])\n",
    "\n",
    "    eqns.append(eqn)\n",
    "\n",
    "\n"
   ]
  }
 ],
 "metadata": {
  "kernelspec": {
   "display_name": "Python 3",
   "language": "python",
   "name": "python3"
  },
  "language_info": {
   "codemirror_mode": {
    "name": "ipython",
    "version": 3
   },
   "file_extension": ".py",
   "mimetype": "text/x-python",
   "name": "python",
   "nbconvert_exporter": "python",
   "pygments_lexer": "ipython3",
   "version": "3.8.20"
  }
 },
 "nbformat": 4,
 "nbformat_minor": 2
}
